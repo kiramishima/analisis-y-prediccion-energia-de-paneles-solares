{
 "cells": [
  {
   "attachments": {},
   "cell_type": "markdown",
   "metadata": {},
   "source": [
    "# Predicción de producción de energía"
   ]
  },
  {
   "cell_type": "code",
   "execution_count": 1,
   "metadata": {},
   "outputs": [],
   "source": [
    "# Cargando librerias\n",
    "import pandas as pd\n",
    "import numpy as np\n",
    "from sklearn.model_selection import train_test_split\n",
    "from sklearn.linear_model import LinearRegression\n",
    "from sklearn.metrics import r2_score\n",
    "import warnings\n",
    "warnings.filterwarnings(\"ignore\")"
   ]
  },
  {
   "cell_type": "code",
   "execution_count": 2,
   "metadata": {},
   "outputs": [],
   "source": [
    "pd.set_option('display.max_columns', None)\n",
    "pd.set_option('display.max_rows', None)\n",
    "pd.set_option('display.precision', 3)"
   ]
  },
  {
   "attachments": {},
   "cell_type": "markdown",
   "metadata": {},
   "source": [
    "## Cargando los datos al Dataframe"
   ]
  },
  {
   "cell_type": "code",
   "execution_count": 3,
   "metadata": {},
   "outputs": [],
   "source": [
    "# Cargamos la información de todas las plantas y sensores\n",
    "df_plant1_gen = pd.read_csv('DATASETS/Plant_1_Generation_Data.csv', parse_dates=[\"DATE_TIME\"])\n",
    "df_plant1_weather = pd.read_csv('DATASETS/Plant_1_Weather_Sensor_Data.csv', parse_dates=[\"DATE_TIME\"])\n",
    "df_plant2_gen = pd.read_csv('DATASETS/Plant_2_Generation_Data.csv', parse_dates=[\"DATE_TIME\"])\n",
    "df_plant2_weather = pd.read_csv('DATASETS/Plant_2_Weather_Sensor_Data.csv', parse_dates=[\"DATE_TIME\"])"
   ]
  },
  {
   "attachments": {},
   "cell_type": "markdown",
   "metadata": {},
   "source": [
    "## Combinando los Dataframes para generar 1 solo por tipo"
   ]
  },
  {
   "cell_type": "code",
   "execution_count": 4,
   "metadata": {},
   "outputs": [],
   "source": [
    "# Concatenamos la informacion de la planta 1 y 2\n",
    "df_gen = pd.concat([df_plant1_gen, df_plant2_gen], ignore_index=True)"
   ]
  },
  {
   "cell_type": "code",
   "execution_count": 5,
   "metadata": {},
   "outputs": [],
   "source": [
    "# Concatenamos la informacion de la planta 1 y 2\n",
    "df_sensors = pd.concat([df_plant1_weather, df_plant2_weather], ignore_index=True)"
   ]
  },
  {
   "attachments": {},
   "cell_type": "markdown",
   "metadata": {},
   "source": [
    "## Uniendo los Dataframes de generación de energía y sensores"
   ]
  },
  {
   "cell_type": "code",
   "execution_count": 6,
   "metadata": {},
   "outputs": [
    {
     "data": {
      "text/html": [
       "<div>\n",
       "<style scoped>\n",
       "    .dataframe tbody tr th:only-of-type {\n",
       "        vertical-align: middle;\n",
       "    }\n",
       "\n",
       "    .dataframe tbody tr th {\n",
       "        vertical-align: top;\n",
       "    }\n",
       "\n",
       "    .dataframe thead th {\n",
       "        text-align: right;\n",
       "    }\n",
       "</style>\n",
       "<table border=\"1\" class=\"dataframe\">\n",
       "  <thead>\n",
       "    <tr style=\"text-align: right;\">\n",
       "      <th></th>\n",
       "      <th>DATE_TIME</th>\n",
       "      <th>PLANT_ID</th>\n",
       "      <th>SOURCE_KEY_GENERATION</th>\n",
       "      <th>DC_POWER</th>\n",
       "      <th>AC_POWER</th>\n",
       "      <th>DAILY_YIELD</th>\n",
       "      <th>TOTAL_YIELD</th>\n",
       "      <th>SOURCE_KEY_WEATHER</th>\n",
       "      <th>AMBIENT_TEMPERATURE</th>\n",
       "      <th>MODULE_TEMPERATURE</th>\n",
       "      <th>IRRADIATION</th>\n",
       "    </tr>\n",
       "  </thead>\n",
       "  <tbody>\n",
       "    <tr>\n",
       "      <th>0</th>\n",
       "      <td>2020-05-15</td>\n",
       "      <td>4135001</td>\n",
       "      <td>1BY6WEcLGh8j5v7</td>\n",
       "      <td>0.0</td>\n",
       "      <td>0.0</td>\n",
       "      <td>0.0</td>\n",
       "      <td>6.260e+06</td>\n",
       "      <td>HmiyD2TTLFNqkNe</td>\n",
       "      <td>25.184</td>\n",
       "      <td>22.858</td>\n",
       "      <td>0.0</td>\n",
       "    </tr>\n",
       "    <tr>\n",
       "      <th>1</th>\n",
       "      <td>2020-05-15</td>\n",
       "      <td>4135001</td>\n",
       "      <td>1IF53ai7Xc0U56Y</td>\n",
       "      <td>0.0</td>\n",
       "      <td>0.0</td>\n",
       "      <td>0.0</td>\n",
       "      <td>6.184e+06</td>\n",
       "      <td>HmiyD2TTLFNqkNe</td>\n",
       "      <td>25.184</td>\n",
       "      <td>22.858</td>\n",
       "      <td>0.0</td>\n",
       "    </tr>\n",
       "    <tr>\n",
       "      <th>2</th>\n",
       "      <td>2020-05-15</td>\n",
       "      <td>4135001</td>\n",
       "      <td>3PZuoBAID5Wc2HD</td>\n",
       "      <td>0.0</td>\n",
       "      <td>0.0</td>\n",
       "      <td>0.0</td>\n",
       "      <td>6.988e+06</td>\n",
       "      <td>HmiyD2TTLFNqkNe</td>\n",
       "      <td>25.184</td>\n",
       "      <td>22.858</td>\n",
       "      <td>0.0</td>\n",
       "    </tr>\n",
       "    <tr>\n",
       "      <th>3</th>\n",
       "      <td>2020-05-15</td>\n",
       "      <td>4135001</td>\n",
       "      <td>7JYdWkrLSPkdwr4</td>\n",
       "      <td>0.0</td>\n",
       "      <td>0.0</td>\n",
       "      <td>0.0</td>\n",
       "      <td>7.603e+06</td>\n",
       "      <td>HmiyD2TTLFNqkNe</td>\n",
       "      <td>25.184</td>\n",
       "      <td>22.858</td>\n",
       "      <td>0.0</td>\n",
       "    </tr>\n",
       "    <tr>\n",
       "      <th>4</th>\n",
       "      <td>2020-05-15</td>\n",
       "      <td>4135001</td>\n",
       "      <td>McdE0feGgRqW7Ca</td>\n",
       "      <td>0.0</td>\n",
       "      <td>0.0</td>\n",
       "      <td>0.0</td>\n",
       "      <td>7.159e+06</td>\n",
       "      <td>HmiyD2TTLFNqkNe</td>\n",
       "      <td>25.184</td>\n",
       "      <td>22.858</td>\n",
       "      <td>0.0</td>\n",
       "    </tr>\n",
       "  </tbody>\n",
       "</table>\n",
       "</div>"
      ],
      "text/plain": [
       "   DATE_TIME  PLANT_ID SOURCE_KEY_GENERATION  DC_POWER  AC_POWER  DAILY_YIELD  \\\n",
       "0 2020-05-15   4135001       1BY6WEcLGh8j5v7       0.0       0.0          0.0   \n",
       "1 2020-05-15   4135001       1IF53ai7Xc0U56Y       0.0       0.0          0.0   \n",
       "2 2020-05-15   4135001       3PZuoBAID5Wc2HD       0.0       0.0          0.0   \n",
       "3 2020-05-15   4135001       7JYdWkrLSPkdwr4       0.0       0.0          0.0   \n",
       "4 2020-05-15   4135001       McdE0feGgRqW7Ca       0.0       0.0          0.0   \n",
       "\n",
       "   TOTAL_YIELD SOURCE_KEY_WEATHER  AMBIENT_TEMPERATURE  MODULE_TEMPERATURE  \\\n",
       "0    6.260e+06    HmiyD2TTLFNqkNe               25.184              22.858   \n",
       "1    6.184e+06    HmiyD2TTLFNqkNe               25.184              22.858   \n",
       "2    6.988e+06    HmiyD2TTLFNqkNe               25.184              22.858   \n",
       "3    7.603e+06    HmiyD2TTLFNqkNe               25.184              22.858   \n",
       "4    7.159e+06    HmiyD2TTLFNqkNe               25.184              22.858   \n",
       "\n",
       "   IRRADIATION  \n",
       "0          0.0  \n",
       "1          0.0  \n",
       "2          0.0  \n",
       "3          0.0  \n",
       "4          0.0  "
      ]
     },
     "execution_count": 6,
     "metadata": {},
     "output_type": "execute_result"
    }
   ],
   "source": [
    "df = df_gen.merge(df_sensors, on=[\"DATE_TIME\", \"PLANT_ID\"], suffixes=(\"_GENERATION\", \"_WEATHER\"))\n",
    "df.head()"
   ]
  },
  {
   "attachments": {},
   "cell_type": "markdown",
   "metadata": {},
   "source": [
    "### Revisando que no haya datos nulos"
   ]
  },
  {
   "cell_type": "code",
   "execution_count": 7,
   "metadata": {},
   "outputs": [
    {
     "data": {
      "text/plain": [
       "DATE_TIME                0\n",
       "PLANT_ID                 0\n",
       "SOURCE_KEY_GENERATION    0\n",
       "DC_POWER                 0\n",
       "AC_POWER                 0\n",
       "DAILY_YIELD              0\n",
       "TOTAL_YIELD              0\n",
       "SOURCE_KEY_WEATHER       0\n",
       "AMBIENT_TEMPERATURE      0\n",
       "MODULE_TEMPERATURE       0\n",
       "IRRADIATION              0\n",
       "dtype: int64"
      ]
     },
     "execution_count": 7,
     "metadata": {},
     "output_type": "execute_result"
    }
   ],
   "source": [
    "df.isnull().sum()"
   ]
  },
  {
   "cell_type": "code",
   "execution_count": 8,
   "metadata": {},
   "outputs": [],
   "source": [
    "# Copiamos el DF original\n",
    "df2 = df.copy()"
   ]
  },
  {
   "cell_type": "code",
   "execution_count": 26,
   "metadata": {},
   "outputs": [],
   "source": [
    "# Seleccionamos la variable dependiente e independientes\n",
    "X = df2[['DAILY_YIELD','TOTAL_YIELD','AMBIENT_TEMPERATURE','MODULE_TEMPERATURE','IRRADIATION','DC_POWER']]\n",
    "y = df2[['AC_POWER']]"
   ]
  },
  {
   "cell_type": "code",
   "execution_count": 31,
   "metadata": {},
   "outputs": [],
   "source": [
    "# Generamos nuestras variables de Test y Entrenamiento\n",
    "X_train,X_test,y_train,y_test = train_test_split(X, y, test_size=.2, random_state=21)"
   ]
  },
  {
   "cell_type": "code",
   "execution_count": 32,
   "metadata": {},
   "outputs": [
    {
     "name": "stdout",
     "output_type": "stream",
     "text": [
      "LR Model score = 83.7140%\n"
     ]
    }
   ],
   "source": [
    "# Generamos el modelo\n",
    "lr_clf = LinearRegression()\n",
    "lr_clf.fit(X_train,y_train)\n",
    "# Score R2\n",
    "score_lr = 100*lr_clf.score(X_test,y_test)\n",
    "print(f'LR Model score = {score_lr:4.4f}%')"
   ]
  },
  {
   "cell_type": "code",
   "execution_count": 33,
   "metadata": {},
   "outputs": [
    {
     "name": "stdout",
     "output_type": "stream",
     "text": [
      "R2 Score :  80.57 %\n"
     ]
    }
   ],
   "source": [
    "# Probamos con los datos de prueba\n",
    "lr = LinearRegression().fit(X_train,y_train)\n",
    "y_pred_lr = lr.predict(X_test)\n",
    "R2_Score_lr = round(r2_score(y_pred_lr, y_test) * 100, 2)\n",
    "\n",
    "print(\"R2 Score : \",R2_Score_lr,\"%\")"
   ]
  },
  {
   "cell_type": "code",
   "execution_count": 34,
   "metadata": {},
   "outputs": [
    {
     "data": {
      "text/plain": [
       "array([-146.00232128])"
      ]
     },
     "execution_count": 34,
     "metadata": {},
     "output_type": "execute_result"
    }
   ],
   "source": [
    "# Intercepto\n",
    "lr_clf.intercept_"
   ]
  },
  {
   "cell_type": "code",
   "execution_count": 35,
   "metadata": {},
   "outputs": [
    {
     "data": {
      "text/plain": [
       "array([[ 2.39597447e-03,  1.64099542e-08,  1.32447358e+01,\n",
       "        -7.63735091e+00,  9.91311839e+02,  3.98750112e-02]])"
      ]
     },
     "execution_count": 35,
     "metadata": {},
     "output_type": "execute_result"
    }
   ],
   "source": [
    "# Coeficientes\n",
    "lr_clf.coef_"
   ]
  },
  {
   "attachments": {},
   "cell_type": "markdown",
   "metadata": {},
   "source": [
    "$B_0 = -146.00232127766094$\n",
    "\n",
    "$B_1 = 2.39597447e-03$\n",
    "\n",
    "$B_2 = 1.64099542e-08$\n",
    "\n",
    "$B_3 = 1.32447358e+01$\n",
    "\n",
    "$B_4 = -7.63735091e+00$\n",
    "\n",
    "$B_5 = 9.91311839e+02$\n",
    "\n",
    "$B_6 = 3.98750112e-02$"
   ]
  },
  {
   "cell_type": "code",
   "execution_count": 39,
   "metadata": {},
   "outputs": [
    {
     "name": "stdout",
     "output_type": "stream",
     "text": [
      "p-valores: [1.42711363e-67 3.44787612e-60 0.00000000e+00 0.00000000e+00\n",
      " 0.00000000e+00 0.00000000e+00]\n",
      "\n",
      "coef con significancia [1.42711363e-67 3.44787612e-60 0.00000000e+00 0.00000000e+00\n",
      " 0.00000000e+00 0.00000000e+00]\n"
     ]
    }
   ],
   "source": [
    "from scipy.stats import pearsonr\n",
    "\n",
    "sc1, pval1 = pearsonr(X['DAILY_YIELD'], y['AC_POWER'])\n",
    "sc2, pval2 = pearsonr(X['TOTAL_YIELD'], y['AC_POWER'])\n",
    "sc3, pval3 = pearsonr(X['AMBIENT_TEMPERATURE'], y['AC_POWER'])\n",
    "sc4, pval4 = pearsonr(X['MODULE_TEMPERATURE'], y['AC_POWER'])\n",
    "sc5, pval5 = pearsonr(X['IRRADIATION'], y['AC_POWER'])\n",
    "sc6, pval6 = pearsonr(X['DC_POWER'], y['AC_POWER'])\n",
    "\n",
    "pvalues = np.array([pval1, pval2, pval3, pval4, pval5, pval6])\n",
    "\n",
    "print(\"p-valores: {}\\n\".format(pvalues))\n",
    "\n",
    "print(\"Coef con significancia:\", pvalues[pvalues <= 0.05])"
   ]
  },
  {
   "attachments": {},
   "cell_type": "markdown",
   "metadata": {},
   "source": [
    "# Formula"
   ]
  },
  {
   "attachments": {},
   "cell_type": "markdown",
   "metadata": {},
   "source": [
    "$\\hat y =  2.39597447e^{-3}x_1 + 1.64099542e^{-8}x_2$ + 1.32447358e+01 $ x_3 $ -7.63735091e+00 $ x_4 $ + 9.91311839e+02 $ x_5 $ + 3.98750112e-02 $ x_6 $ -146.00232127766094"
   ]
  },
  {
   "attachments": {},
   "cell_type": "markdown",
   "metadata": {},
   "source": [
    "# Con StatsModel"
   ]
  },
  {
   "cell_type": "code",
   "execution_count": 40,
   "metadata": {},
   "outputs": [],
   "source": [
    "import statsmodels.api as sm"
   ]
  },
  {
   "cell_type": "code",
   "execution_count": 43,
   "metadata": {},
   "outputs": [],
   "source": [
    "modelo = sm.OLS(y, X)\n",
    "res = modelo.fit()"
   ]
  },
  {
   "cell_type": "code",
   "execution_count": 44,
   "metadata": {},
   "outputs": [
    {
     "data": {
      "text/html": [
       "<table class=\"simpletable\">\n",
       "<caption>OLS Regression Results</caption>\n",
       "<tr>\n",
       "  <th>Dep. Variable:</th>        <td>AC_POWER</td>     <th>  R-squared (uncentered):</th>       <td>   0.890</td>  \n",
       "</tr>\n",
       "<tr>\n",
       "  <th>Model:</th>                   <td>OLS</td>       <th>  Adj. R-squared (uncentered):</th>  <td>   0.890</td>  \n",
       "</tr>\n",
       "<tr>\n",
       "  <th>Method:</th>             <td>Least Squares</td>  <th>  F-statistic:       </th>           <td>1.838e+05</td> \n",
       "</tr>\n",
       "<tr>\n",
       "  <th>Date:</th>             <td>Tue, 06 Jun 2023</td> <th>  Prob (F-statistic):</th>            <td>  0.00</td>   \n",
       "</tr>\n",
       "<tr>\n",
       "  <th>Time:</th>                 <td>23:26:35</td>     <th>  Log-Likelihood:    </th>          <td>-8.8252e+05</td>\n",
       "</tr>\n",
       "<tr>\n",
       "  <th>No. Observations:</th>      <td>136472</td>      <th>  AIC:               </th>           <td>1.765e+06</td> \n",
       "</tr>\n",
       "<tr>\n",
       "  <th>Df Residuals:</th>          <td>136466</td>      <th>  BIC:               </th>           <td>1.765e+06</td> \n",
       "</tr>\n",
       "<tr>\n",
       "  <th>Df Model:</th>              <td>     6</td>      <th>                     </th>               <td> </td>     \n",
       "</tr>\n",
       "<tr>\n",
       "  <th>Covariance Type:</th>      <td>nonrobust</td>    <th>                     </th>               <td> </td>     \n",
       "</tr>\n",
       "</table>\n",
       "<table class=\"simpletable\">\n",
       "<tr>\n",
       "           <td></td>              <th>coef</th>     <th>std err</th>      <th>t</th>      <th>P>|t|</th>  <th>[0.025</th>    <th>0.975]</th>  \n",
       "</tr>\n",
       "<tr>\n",
       "  <th>DAILY_YIELD</th>         <td>    0.0050</td> <td>    0.000</td> <td>   33.190</td> <td> 0.000</td> <td>    0.005</td> <td>    0.005</td>\n",
       "</tr>\n",
       "<tr>\n",
       "  <th>TOTAL_YIELD</th>         <td> 2.038e-08</td> <td> 7.38e-10</td> <td>   27.611</td> <td> 0.000</td> <td> 1.89e-08</td> <td> 2.18e-08</td>\n",
       "</tr>\n",
       "<tr>\n",
       "  <th>AMBIENT_TEMPERATURE</th> <td>    4.9940</td> <td>    0.219</td> <td>   22.799</td> <td> 0.000</td> <td>    4.565</td> <td>    5.423</td>\n",
       "</tr>\n",
       "<tr>\n",
       "  <th>MODULE_TEMPERATURE</th>  <td>   -5.4517</td> <td>    0.231</td> <td>  -23.641</td> <td> 0.000</td> <td>   -5.904</td> <td>   -5.000</td>\n",
       "</tr>\n",
       "<tr>\n",
       "  <th>IRRADIATION</th>         <td>  996.8809</td> <td>    6.337</td> <td>  157.304</td> <td> 0.000</td> <td>  984.460</td> <td> 1009.302</td>\n",
       "</tr>\n",
       "<tr>\n",
       "  <th>DC_POWER</th>            <td>    0.0371</td> <td>    0.000</td> <td>  181.608</td> <td> 0.000</td> <td>    0.037</td> <td>    0.037</td>\n",
       "</tr>\n",
       "</table>\n",
       "<table class=\"simpletable\">\n",
       "<tr>\n",
       "  <th>Omnibus:</th>       <td>69189.839</td> <th>  Durbin-Watson:     </th>  <td>   1.570</td> \n",
       "</tr>\n",
       "<tr>\n",
       "  <th>Prob(Omnibus):</th>  <td> 0.000</td>   <th>  Jarque-Bera (JB):  </th> <td>885258.425</td>\n",
       "</tr>\n",
       "<tr>\n",
       "  <th>Skew:</th>           <td>-2.140</td>   <th>  Prob(JB):          </th>  <td>    0.00</td> \n",
       "</tr>\n",
       "<tr>\n",
       "  <th>Kurtosis:</th>       <td>14.720</td>   <th>  Cond. No.          </th>  <td>1.04e+10</td> \n",
       "</tr>\n",
       "</table><br/><br/>Notes:<br/>[1] R² is computed without centering (uncentered) since the model does not contain a constant.<br/>[2] Standard Errors assume that the covariance matrix of the errors is correctly specified.<br/>[3] The condition number is large, 1.04e+10. This might indicate that there are<br/>strong multicollinearity or other numerical problems."
      ],
      "text/latex": [
       "\\begin{center}\n",
       "\\begin{tabular}{lclc}\n",
       "\\toprule\n",
       "\\textbf{Dep. Variable:}       &    AC\\_POWER     & \\textbf{  R-squared (uncentered):}      &      0.890   \\\\\n",
       "\\textbf{Model:}               &       OLS        & \\textbf{  Adj. R-squared (uncentered):} &      0.890   \\\\\n",
       "\\textbf{Method:}              &  Least Squares   & \\textbf{  F-statistic:       }          &  1.838e+05   \\\\\n",
       "\\textbf{Date:}                & Tue, 06 Jun 2023 & \\textbf{  Prob (F-statistic):}          &      0.00    \\\\\n",
       "\\textbf{Time:}                &     23:26:35     & \\textbf{  Log-Likelihood:    }          & -8.8252e+05  \\\\\n",
       "\\textbf{No. Observations:}    &      136472      & \\textbf{  AIC:               }          &  1.765e+06   \\\\\n",
       "\\textbf{Df Residuals:}        &      136466      & \\textbf{  BIC:               }          &  1.765e+06   \\\\\n",
       "\\textbf{Df Model:}            &           6      & \\textbf{                     }          &              \\\\\n",
       "\\textbf{Covariance Type:}     &    nonrobust     & \\textbf{                     }          &              \\\\\n",
       "\\bottomrule\n",
       "\\end{tabular}\n",
       "\\begin{tabular}{lcccccc}\n",
       "                              & \\textbf{coef} & \\textbf{std err} & \\textbf{t} & \\textbf{P$> |$t$|$} & \\textbf{[0.025} & \\textbf{0.975]}  \\\\\n",
       "\\midrule\n",
       "\\textbf{DAILY\\_YIELD}         &       0.0050  &        0.000     &    33.190  &         0.000        &        0.005    &        0.005     \\\\\n",
       "\\textbf{TOTAL\\_YIELD}         &    2.038e-08  &     7.38e-10     &    27.611  &         0.000        &     1.89e-08    &     2.18e-08     \\\\\n",
       "\\textbf{AMBIENT\\_TEMPERATURE} &       4.9940  &        0.219     &    22.799  &         0.000        &        4.565    &        5.423     \\\\\n",
       "\\textbf{MODULE\\_TEMPERATURE}  &      -5.4517  &        0.231     &   -23.641  &         0.000        &       -5.904    &       -5.000     \\\\\n",
       "\\textbf{IRRADIATION}          &     996.8809  &        6.337     &   157.304  &         0.000        &      984.460    &     1009.302     \\\\\n",
       "\\textbf{DC\\_POWER}            &       0.0371  &        0.000     &   181.608  &         0.000        &        0.037    &        0.037     \\\\\n",
       "\\bottomrule\n",
       "\\end{tabular}\n",
       "\\begin{tabular}{lclc}\n",
       "\\textbf{Omnibus:}       & 69189.839 & \\textbf{  Durbin-Watson:     } &     1.570   \\\\\n",
       "\\textbf{Prob(Omnibus):} &    0.000  & \\textbf{  Jarque-Bera (JB):  } & 885258.425  \\\\\n",
       "\\textbf{Skew:}          &   -2.140  & \\textbf{  Prob(JB):          } &      0.00   \\\\\n",
       "\\textbf{Kurtosis:}      &   14.720  & \\textbf{  Cond. No.          } &  1.04e+10   \\\\\n",
       "\\bottomrule\n",
       "\\end{tabular}\n",
       "%\\caption{OLS Regression Results}\n",
       "\\end{center}\n",
       "\n",
       "Notes: \\newline\n",
       " [1] R² is computed without centering (uncentered) since the model does not contain a constant. \\newline\n",
       " [2] Standard Errors assume that the covariance matrix of the errors is correctly specified. \\newline\n",
       " [3] The condition number is large, 1.04e+10. This might indicate that there are \\newline\n",
       " strong multicollinearity or other numerical problems."
      ],
      "text/plain": [
       "<class 'statsmodels.iolib.summary.Summary'>\n",
       "\"\"\"\n",
       "                                 OLS Regression Results                                \n",
       "=======================================================================================\n",
       "Dep. Variable:               AC_POWER   R-squared (uncentered):                   0.890\n",
       "Model:                            OLS   Adj. R-squared (uncentered):              0.890\n",
       "Method:                 Least Squares   F-statistic:                          1.838e+05\n",
       "Date:                Tue, 06 Jun 2023   Prob (F-statistic):                        0.00\n",
       "Time:                        23:26:35   Log-Likelihood:                     -8.8252e+05\n",
       "No. Observations:              136472   AIC:                                  1.765e+06\n",
       "Df Residuals:                  136466   BIC:                                  1.765e+06\n",
       "Df Model:                           6                                                  \n",
       "Covariance Type:            nonrobust                                                  \n",
       "=======================================================================================\n",
       "                          coef    std err          t      P>|t|      [0.025      0.975]\n",
       "---------------------------------------------------------------------------------------\n",
       "DAILY_YIELD             0.0050      0.000     33.190      0.000       0.005       0.005\n",
       "TOTAL_YIELD          2.038e-08   7.38e-10     27.611      0.000    1.89e-08    2.18e-08\n",
       "AMBIENT_TEMPERATURE     4.9940      0.219     22.799      0.000       4.565       5.423\n",
       "MODULE_TEMPERATURE     -5.4517      0.231    -23.641      0.000      -5.904      -5.000\n",
       "IRRADIATION           996.8809      6.337    157.304      0.000     984.460    1009.302\n",
       "DC_POWER                0.0371      0.000    181.608      0.000       0.037       0.037\n",
       "==============================================================================\n",
       "Omnibus:                    69189.839   Durbin-Watson:                   1.570\n",
       "Prob(Omnibus):                  0.000   Jarque-Bera (JB):           885258.425\n",
       "Skew:                          -2.140   Prob(JB):                         0.00\n",
       "Kurtosis:                      14.720   Cond. No.                     1.04e+10\n",
       "==============================================================================\n",
       "\n",
       "Notes:\n",
       "[1] R² is computed without centering (uncentered) since the model does not contain a constant.\n",
       "[2] Standard Errors assume that the covariance matrix of the errors is correctly specified.\n",
       "[3] The condition number is large, 1.04e+10. This might indicate that there are\n",
       "strong multicollinearity or other numerical problems.\n",
       "\"\"\""
      ]
     },
     "execution_count": 44,
     "metadata": {},
     "output_type": "execute_result"
    }
   ],
   "source": [
    "res.summary()"
   ]
  },
  {
   "cell_type": "code",
   "execution_count": 50,
   "metadata": {},
   "outputs": [
    {
     "data": {
      "text/plain": [
       "DAILY_YIELD            True\n",
       "TOTAL_YIELD            True\n",
       "AMBIENT_TEMPERATURE    True\n",
       "MODULE_TEMPERATURE     True\n",
       "IRRADIATION            True\n",
       "DC_POWER               True\n",
       "dtype: bool"
      ]
     },
     "execution_count": 50,
     "metadata": {},
     "output_type": "execute_result"
    }
   ],
   "source": [
    "# Significancia\n",
    "res.pvalues < 0.05"
   ]
  },
  {
   "cell_type": "code",
   "execution_count": 53,
   "metadata": {},
   "outputs": [
    {
     "data": {
      "text/plain": [
       "0.8898712741285061"
      ]
     },
     "execution_count": 53,
     "metadata": {},
     "output_type": "execute_result"
    }
   ],
   "source": [
    "# R^2\n",
    "res.rsquared"
   ]
  },
  {
   "cell_type": "code",
   "execution_count": 52,
   "metadata": {},
   "outputs": [
    {
     "data": {
      "text/plain": [
       "DAILY_YIELD            4.966e-03\n",
       "TOTAL_YIELD            2.038e-08\n",
       "AMBIENT_TEMPERATURE    4.994e+00\n",
       "MODULE_TEMPERATURE    -5.452e+00\n",
       "IRRADIATION            9.969e+02\n",
       "DC_POWER               3.707e-02\n",
       "dtype: float64"
      ]
     },
     "execution_count": 52,
     "metadata": {},
     "output_type": "execute_result"
    }
   ],
   "source": [
    "# Coefiencientes\n",
    "res.params"
   ]
  },
  {
   "attachments": {},
   "cell_type": "markdown",
   "metadata": {},
   "source": [
    "$\\hat y =  $ 4.966e-03 $ x_1 $ + $ 2.038e^{-8}x_2  + $ 4.994e+00 $ x_3 $ - 5.452e+00 $ x_4 $ + 9.969e+02 $ x_5 $ + 3.707e-02 $ x_6 $"
   ]
  },
  {
   "attachments": {},
   "cell_type": "markdown",
   "metadata": {},
   "source": [
    "> El segundo modelo tiene mejor porcentaje de predicción"
   ]
  }
 ],
 "metadata": {
  "kernelspec": {
   "display_name": "irc_p_violencia",
   "language": "python",
   "name": "python3"
  },
  "language_info": {
   "codemirror_mode": {
    "name": "ipython",
    "version": 3
   },
   "file_extension": ".py",
   "mimetype": "text/x-python",
   "name": "python",
   "nbconvert_exporter": "python",
   "pygments_lexer": "ipython3",
   "version": "3.11.3"
  },
  "orig_nbformat": 4
 },
 "nbformat": 4,
 "nbformat_minor": 2
}
